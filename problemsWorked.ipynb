{
 "cells": [
  {
   "cell_type": "code",
   "execution_count": 1,
   "metadata": {},
   "outputs": [],
   "source": [
    "%matplotlib inline\n",
    "import matplotlib\n",
    "import seaborn as sns\n",
    "sns.set()\n",
    "matplotlib.rcParams['figure.dpi'] = 144"
   ]
  },
  {
   "cell_type": "code",
   "execution_count": 2,
   "metadata": {},
   "outputs": [],
   "source": [
    "%matplotlib inline\n",
    "import matplotlib\n",
    "import seaborn as sns\n",
    "matplotlib.rcParams['savefig.dpi'] = 144"
   ]
  },
  {
   "cell_type": "markdown",
   "metadata": {},
   "source": [
    "# Problem 1\n",
    "\n",
    "Define a function that accepts a list (called `numbers` below) as input and return a list where each element is multiplied by 10. \n",
    "\n",
    "In this case, you need to write a function that will work for arbitrary input.\n",
    "You expect by evaluating code similar to the following:\n",
    "\n",
    "```python\n",
    "\n",
    "test_numbers = [1, 2, 3]\n",
    "mult(test_numbers)\n",
    "\n",
    "expected output [10,20,30]\n",
    "```"
   ]
  },
  {
   "cell_type": "code",
   "execution_count": 10,
   "metadata": {},
   "outputs": [
    {
     "data": {
      "text/plain": [
       "100"
      ]
     },
     "execution_count": 10,
     "metadata": {},
     "output_type": "execute_result"
    }
   ],
   "source": [
    "# your code here\n",
    "\n",
    "def numbers(random):\n",
    "    return (random*10)\n",
    "\n",
    "numbers(10)\n",
    "    \n",
    "    "
   ]
  },
  {
   "cell_type": "markdown",
   "metadata": {},
   "source": [
    "### solution"
   ]
  },
  {
   "cell_type": "code",
   "execution_count": 18,
   "metadata": {},
   "outputs": [],
   "source": [
    "def mult(numbers):\n",
    "    return [i*10 for i in numbers]"
   ]
  },
  {
   "cell_type": "code",
   "execution_count": 19,
   "metadata": {},
   "outputs": [
    {
     "data": {
      "text/plain": [
       "[10, 20, 30]"
      ]
     },
     "execution_count": 19,
     "metadata": {},
     "output_type": "execute_result"
    }
   ],
   "source": [
    "mult([1,2,3])"
   ]
  },
  {
   "cell_type": "markdown",
   "metadata": {},
   "source": [
    "## Problem 2\n",
    "\n",
    "Find the largest number given list of 3 number"
   ]
  },
  {
   "cell_type": "code",
   "execution_count": 28,
   "metadata": {},
   "outputs": [
    {
     "name": "stdout",
     "output_type": "stream",
     "text": [
      "Largest number is 6\n"
     ]
    }
   ],
   "source": [
    "\n",
    "# your code here\n",
    "list = (1,6,3)\n",
    "\n",
    "print (\"Largest number is\", max(list))\n",
    "\n",
    "\n",
    "    \n"
   ]
  },
  {
   "cell_type": "markdown",
   "metadata": {},
   "source": [
    "### solution"
   ]
  },
  {
   "cell_type": "code",
   "execution_count": 45,
   "metadata": {},
   "outputs": [
    {
     "name": "stdout",
     "output_type": "stream",
     "text": [
      "5\n"
     ]
    }
   ],
   "source": [
    "def maximum(list):\n",
    "    return max(list)\n",
    "  \n",
    "# Driven code \n",
    "my_list = [3,4,5]\n",
    "print(maximum(my_list))"
   ]
  },
  {
   "cell_type": "code",
   "execution_count": 42,
   "metadata": {},
   "outputs": [],
   "source": [
    "def get_three_largest(*args):\n",
    "    numb = sorted(list(set(args)), reverse=True)\n",
    "    print(numb[:3])\n"
   ]
  },
  {
   "cell_type": "code",
   "execution_count": 44,
   "metadata": {},
   "outputs": [
    {
     "name": "stdout",
     "output_type": "stream",
     "text": [
      "[6, 5, 3]\n"
     ]
    }
   ],
   "source": [
    "test_list = [0,1,3,3,5,6]\n",
    "get_three_largest(*test_list)"
   ]
  },
  {
   "cell_type": "markdown",
   "metadata": {},
   "source": [
    "# Problem 3\n",
    "\n",
    "Write a program which asks the user for a number. If number is even print ‘Even’, else print ‘Odd’."
   ]
  },
  {
   "cell_type": "code",
   "execution_count": null,
   "metadata": {},
   "outputs": [],
   "source": [
    "# your code here\n",
    "\n",
    "num = input(\"What's your number?\")\n",
    "\n",
    "print (\"your number is\" + num)\n",
    "\n",
    "def oddeven(num):\n",
    "    if num%2==0:\n",
    "        return (\"even\")\n",
    "    else:\n",
    "         return (\"odd\")\n",
    "\n",
    "    \n"
   ]
  },
  {
   "cell_type": "markdown",
   "metadata": {},
   "source": [
    "### solution"
   ]
  },
  {
   "cell_type": "code",
   "execution_count": 34,
   "metadata": {},
   "outputs": [
    {
     "ename": "KeyboardInterrupt",
     "evalue": "Interrupted by user",
     "output_type": "error",
     "traceback": [
      "\u001b[0;31m---------------------------------------------------------------------------\u001b[0m",
      "\u001b[0;31mKeyboardInterrupt\u001b[0m                         Traceback (most recent call last)",
      "\u001b[1;32m/Users/chavisadechathipat/Desktop/python project/Learning/Python_Playgrounds/problems.ipynb Cell 17'\u001b[0m in \u001b[0;36m<cell line: 1>\u001b[0;34m()\u001b[0m\n\u001b[0;32m----> <a href='vscode-notebook-cell:/Users/chavisadechathipat/Desktop/python%20project/Learning/Python_Playgrounds/problems.ipynb#ch0000016?line=0'>1</a>\u001b[0m num \u001b[39m=\u001b[39m \u001b[39mint\u001b[39m(\u001b[39minput\u001b[39;49m(\u001b[39m\"\u001b[39;49m\u001b[39mEnter number: \u001b[39;49m\u001b[39m\"\u001b[39;49m))\n\u001b[1;32m      <a href='vscode-notebook-cell:/Users/chavisadechathipat/Desktop/python%20project/Learning/Python_Playgrounds/problems.ipynb#ch0000016?line=2'>3</a>\u001b[0m \u001b[39mif\u001b[39;00m num \u001b[39m%\u001b[39m \u001b[39m2\u001b[39m \u001b[39m==\u001b[39m \u001b[39m0\u001b[39m:\n\u001b[1;32m      <a href='vscode-notebook-cell:/Users/chavisadechathipat/Desktop/python%20project/Learning/Python_Playgrounds/problems.ipynb#ch0000016?line=3'>4</a>\u001b[0m     \u001b[39mprint\u001b[39m(\u001b[39m\"\u001b[39m\u001b[39mEven\u001b[39m\u001b[39m\"\u001b[39m)\n",
      "File \u001b[0;32m~/.pyenv/versions/3.10.3/lib/python3.10/site-packages/ipykernel/kernelbase.py:1159\u001b[0m, in \u001b[0;36mKernel.raw_input\u001b[0;34m(self, prompt)\u001b[0m\n\u001b[1;32m   <a href='file:///Users/chavisadechathipat/.pyenv/versions/3.10.3/lib/python3.10/site-packages/ipykernel/kernelbase.py?line=1154'>1155</a>\u001b[0m \u001b[39mif\u001b[39;00m \u001b[39mnot\u001b[39;00m \u001b[39mself\u001b[39m\u001b[39m.\u001b[39m_allow_stdin:\n\u001b[1;32m   <a href='file:///Users/chavisadechathipat/.pyenv/versions/3.10.3/lib/python3.10/site-packages/ipykernel/kernelbase.py?line=1155'>1156</a>\u001b[0m     \u001b[39mraise\u001b[39;00m StdinNotImplementedError(\n\u001b[1;32m   <a href='file:///Users/chavisadechathipat/.pyenv/versions/3.10.3/lib/python3.10/site-packages/ipykernel/kernelbase.py?line=1156'>1157</a>\u001b[0m         \u001b[39m\"\u001b[39m\u001b[39mraw_input was called, but this frontend does not support input requests.\u001b[39m\u001b[39m\"\u001b[39m\n\u001b[1;32m   <a href='file:///Users/chavisadechathipat/.pyenv/versions/3.10.3/lib/python3.10/site-packages/ipykernel/kernelbase.py?line=1157'>1158</a>\u001b[0m     )\n\u001b[0;32m-> <a href='file:///Users/chavisadechathipat/.pyenv/versions/3.10.3/lib/python3.10/site-packages/ipykernel/kernelbase.py?line=1158'>1159</a>\u001b[0m \u001b[39mreturn\u001b[39;00m \u001b[39mself\u001b[39;49m\u001b[39m.\u001b[39;49m_input_request(\n\u001b[1;32m   <a href='file:///Users/chavisadechathipat/.pyenv/versions/3.10.3/lib/python3.10/site-packages/ipykernel/kernelbase.py?line=1159'>1160</a>\u001b[0m     \u001b[39mstr\u001b[39;49m(prompt),\n\u001b[1;32m   <a href='file:///Users/chavisadechathipat/.pyenv/versions/3.10.3/lib/python3.10/site-packages/ipykernel/kernelbase.py?line=1160'>1161</a>\u001b[0m     \u001b[39mself\u001b[39;49m\u001b[39m.\u001b[39;49m_parent_ident[\u001b[39m\"\u001b[39;49m\u001b[39mshell\u001b[39;49m\u001b[39m\"\u001b[39;49m],\n\u001b[1;32m   <a href='file:///Users/chavisadechathipat/.pyenv/versions/3.10.3/lib/python3.10/site-packages/ipykernel/kernelbase.py?line=1161'>1162</a>\u001b[0m     \u001b[39mself\u001b[39;49m\u001b[39m.\u001b[39;49mget_parent(\u001b[39m\"\u001b[39;49m\u001b[39mshell\u001b[39;49m\u001b[39m\"\u001b[39;49m),\n\u001b[1;32m   <a href='file:///Users/chavisadechathipat/.pyenv/versions/3.10.3/lib/python3.10/site-packages/ipykernel/kernelbase.py?line=1162'>1163</a>\u001b[0m     password\u001b[39m=\u001b[39;49m\u001b[39mFalse\u001b[39;49;00m,\n\u001b[1;32m   <a href='file:///Users/chavisadechathipat/.pyenv/versions/3.10.3/lib/python3.10/site-packages/ipykernel/kernelbase.py?line=1163'>1164</a>\u001b[0m )\n",
      "File \u001b[0;32m~/.pyenv/versions/3.10.3/lib/python3.10/site-packages/ipykernel/kernelbase.py:1201\u001b[0m, in \u001b[0;36mKernel._input_request\u001b[0;34m(self, prompt, ident, parent, password)\u001b[0m\n\u001b[1;32m   <a href='file:///Users/chavisadechathipat/.pyenv/versions/3.10.3/lib/python3.10/site-packages/ipykernel/kernelbase.py?line=1197'>1198</a>\u001b[0m             \u001b[39mbreak\u001b[39;00m\n\u001b[1;32m   <a href='file:///Users/chavisadechathipat/.pyenv/versions/3.10.3/lib/python3.10/site-packages/ipykernel/kernelbase.py?line=1198'>1199</a>\u001b[0m \u001b[39mexcept\u001b[39;00m \u001b[39mKeyboardInterrupt\u001b[39;00m:\n\u001b[1;32m   <a href='file:///Users/chavisadechathipat/.pyenv/versions/3.10.3/lib/python3.10/site-packages/ipykernel/kernelbase.py?line=1199'>1200</a>\u001b[0m     \u001b[39m# re-raise KeyboardInterrupt, to truncate traceback\u001b[39;00m\n\u001b[0;32m-> <a href='file:///Users/chavisadechathipat/.pyenv/versions/3.10.3/lib/python3.10/site-packages/ipykernel/kernelbase.py?line=1200'>1201</a>\u001b[0m     \u001b[39mraise\u001b[39;00m \u001b[39mKeyboardInterrupt\u001b[39;00m(\u001b[39m\"\u001b[39m\u001b[39mInterrupted by user\u001b[39m\u001b[39m\"\u001b[39m) \u001b[39mfrom\u001b[39;00m \u001b[39mNone\u001b[39m\n\u001b[1;32m   <a href='file:///Users/chavisadechathipat/.pyenv/versions/3.10.3/lib/python3.10/site-packages/ipykernel/kernelbase.py?line=1201'>1202</a>\u001b[0m \u001b[39mexcept\u001b[39;00m \u001b[39mException\u001b[39;00m:\n\u001b[1;32m   <a href='file:///Users/chavisadechathipat/.pyenv/versions/3.10.3/lib/python3.10/site-packages/ipykernel/kernelbase.py?line=1202'>1203</a>\u001b[0m     \u001b[39mself\u001b[39m\u001b[39m.\u001b[39mlog\u001b[39m.\u001b[39mwarning(\u001b[39m\"\u001b[39m\u001b[39mInvalid Message:\u001b[39m\u001b[39m\"\u001b[39m, exc_info\u001b[39m=\u001b[39m\u001b[39mTrue\u001b[39;00m)\n",
      "\u001b[0;31mKeyboardInterrupt\u001b[0m: Interrupted by user"
     ]
    }
   ],
   "source": [
    "num = int(input(\"Enter number: \"))\n",
    "\n",
    "if num % 2 == 0:\n",
    "    print(\"Even\")\n",
    "else:\n",
    "    print(\"Odd\")"
   ]
  },
  {
   "cell_type": "markdown",
   "metadata": {},
   "source": [
    "# Problem 4\n",
    "\n",
    "Write a program to check if input number is a prime number."
   ]
  },
  {
   "cell_type": "code",
   "execution_count": 48,
   "metadata": {},
   "outputs": [
    {
     "ename": "TypeError",
     "evalue": "'num' is an invalid keyword argument for print()",
     "output_type": "error",
     "traceback": [
      "\u001b[0;31m---------------------------------------------------------------------------\u001b[0m",
      "\u001b[0;31mTypeError\u001b[0m                                 Traceback (most recent call last)",
      "\u001b[1;32m/Users/chavisadechathipat/Desktop/python project/Learning/Python_Playgrounds/problems.ipynb Cell 19'\u001b[0m in \u001b[0;36m<cell line: 10>\u001b[0;34m()\u001b[0m\n\u001b[1;32m      <a href='vscode-notebook-cell:/Users/chavisadechathipat/Desktop/python%20project/Learning/Python_Playgrounds/problems.ipynb#ch0000018?line=7'>8</a>\u001b[0m     \u001b[39melse\u001b[39;00m:\n\u001b[1;32m      <a href='vscode-notebook-cell:/Users/chavisadechathipat/Desktop/python%20project/Learning/Python_Playgrounds/problems.ipynb#ch0000018?line=8'>9</a>\u001b[0m         \u001b[39mreturn\u001b[39;00m \u001b[39m\"\u001b[39m\u001b[39mNot Prime\u001b[39m\u001b[39m\"\u001b[39m\n\u001b[0;32m---> <a href='vscode-notebook-cell:/Users/chavisadechathipat/Desktop/python%20project/Learning/Python_Playgrounds/problems.ipynb#ch0000018?line=9'>10</a>\u001b[0m \u001b[39mprint\u001b[39;49m (num\u001b[39m=\u001b[39;49m\u001b[39m3\u001b[39;49m)\n",
      "\u001b[0;31mTypeError\u001b[0m: 'num' is an invalid keyword argument for print()"
     ]
    }
   ],
   "source": [
    "# your code here\n",
    "\n",
    "def checkPrime (num):\n",
    "    if num <= 2:\n",
    "        return \"Not prime\"\n",
    "    if (num >2 and num % 2 == 0):\n",
    "        return \"Prime\"\n",
    "    else:\n",
    "        return \"Not Prime\"\n",
    "print (num=3)\n"
   ]
  },
  {
   "cell_type": "markdown",
   "metadata": {},
   "source": [
    "### solution"
   ]
  },
  {
   "cell_type": "code",
   "execution_count": 49,
   "metadata": {},
   "outputs": [
    {
     "ename": "KeyboardInterrupt",
     "evalue": "Interrupted by user",
     "output_type": "error",
     "traceback": [
      "\u001b[0;31m---------------------------------------------------------------------------\u001b[0m",
      "\u001b[0;31mKeyboardInterrupt\u001b[0m                         Traceback (most recent call last)",
      "\u001b[1;32m/Users/chavisadechathipat/Desktop/python project/Learning/Python_Playgrounds/problems.ipynb Cell 21'\u001b[0m in \u001b[0;36m<cell line: 1>\u001b[0;34m()\u001b[0m\n\u001b[0;32m----> <a href='vscode-notebook-cell:/Users/chavisadechathipat/Desktop/python%20project/Learning/Python_Playgrounds/problems.ipynb#ch0000020?line=0'>1</a>\u001b[0m num \u001b[39m=\u001b[39m \u001b[39mint\u001b[39m(\u001b[39minput\u001b[39;49m(\u001b[39m\"\u001b[39;49m\u001b[39mEnter number: \u001b[39;49m\u001b[39m\"\u001b[39;49m))\n\u001b[1;32m      <a href='vscode-notebook-cell:/Users/chavisadechathipat/Desktop/python%20project/Learning/Python_Playgrounds/problems.ipynb#ch0000020?line=2'>3</a>\u001b[0m is_prime \u001b[39m=\u001b[39m \u001b[39mTrue\u001b[39;00m\n\u001b[1;32m      <a href='vscode-notebook-cell:/Users/chavisadechathipat/Desktop/python%20project/Learning/Python_Playgrounds/problems.ipynb#ch0000020?line=4'>5</a>\u001b[0m \u001b[39mfor\u001b[39;00m i \u001b[39min\u001b[39;00m \u001b[39mrange\u001b[39m(\u001b[39m2\u001b[39m, num):\n",
      "File \u001b[0;32m~/.pyenv/versions/3.10.3/lib/python3.10/site-packages/ipykernel/kernelbase.py:1159\u001b[0m, in \u001b[0;36mKernel.raw_input\u001b[0;34m(self, prompt)\u001b[0m\n\u001b[1;32m   <a href='file:///Users/chavisadechathipat/.pyenv/versions/3.10.3/lib/python3.10/site-packages/ipykernel/kernelbase.py?line=1154'>1155</a>\u001b[0m \u001b[39mif\u001b[39;00m \u001b[39mnot\u001b[39;00m \u001b[39mself\u001b[39m\u001b[39m.\u001b[39m_allow_stdin:\n\u001b[1;32m   <a href='file:///Users/chavisadechathipat/.pyenv/versions/3.10.3/lib/python3.10/site-packages/ipykernel/kernelbase.py?line=1155'>1156</a>\u001b[0m     \u001b[39mraise\u001b[39;00m StdinNotImplementedError(\n\u001b[1;32m   <a href='file:///Users/chavisadechathipat/.pyenv/versions/3.10.3/lib/python3.10/site-packages/ipykernel/kernelbase.py?line=1156'>1157</a>\u001b[0m         \u001b[39m\"\u001b[39m\u001b[39mraw_input was called, but this frontend does not support input requests.\u001b[39m\u001b[39m\"\u001b[39m\n\u001b[1;32m   <a href='file:///Users/chavisadechathipat/.pyenv/versions/3.10.3/lib/python3.10/site-packages/ipykernel/kernelbase.py?line=1157'>1158</a>\u001b[0m     )\n\u001b[0;32m-> <a href='file:///Users/chavisadechathipat/.pyenv/versions/3.10.3/lib/python3.10/site-packages/ipykernel/kernelbase.py?line=1158'>1159</a>\u001b[0m \u001b[39mreturn\u001b[39;00m \u001b[39mself\u001b[39;49m\u001b[39m.\u001b[39;49m_input_request(\n\u001b[1;32m   <a href='file:///Users/chavisadechathipat/.pyenv/versions/3.10.3/lib/python3.10/site-packages/ipykernel/kernelbase.py?line=1159'>1160</a>\u001b[0m     \u001b[39mstr\u001b[39;49m(prompt),\n\u001b[1;32m   <a href='file:///Users/chavisadechathipat/.pyenv/versions/3.10.3/lib/python3.10/site-packages/ipykernel/kernelbase.py?line=1160'>1161</a>\u001b[0m     \u001b[39mself\u001b[39;49m\u001b[39m.\u001b[39;49m_parent_ident[\u001b[39m\"\u001b[39;49m\u001b[39mshell\u001b[39;49m\u001b[39m\"\u001b[39;49m],\n\u001b[1;32m   <a href='file:///Users/chavisadechathipat/.pyenv/versions/3.10.3/lib/python3.10/site-packages/ipykernel/kernelbase.py?line=1161'>1162</a>\u001b[0m     \u001b[39mself\u001b[39;49m\u001b[39m.\u001b[39;49mget_parent(\u001b[39m\"\u001b[39;49m\u001b[39mshell\u001b[39;49m\u001b[39m\"\u001b[39;49m),\n\u001b[1;32m   <a href='file:///Users/chavisadechathipat/.pyenv/versions/3.10.3/lib/python3.10/site-packages/ipykernel/kernelbase.py?line=1162'>1163</a>\u001b[0m     password\u001b[39m=\u001b[39;49m\u001b[39mFalse\u001b[39;49;00m,\n\u001b[1;32m   <a href='file:///Users/chavisadechathipat/.pyenv/versions/3.10.3/lib/python3.10/site-packages/ipykernel/kernelbase.py?line=1163'>1164</a>\u001b[0m )\n",
      "File \u001b[0;32m~/.pyenv/versions/3.10.3/lib/python3.10/site-packages/ipykernel/kernelbase.py:1201\u001b[0m, in \u001b[0;36mKernel._input_request\u001b[0;34m(self, prompt, ident, parent, password)\u001b[0m\n\u001b[1;32m   <a href='file:///Users/chavisadechathipat/.pyenv/versions/3.10.3/lib/python3.10/site-packages/ipykernel/kernelbase.py?line=1197'>1198</a>\u001b[0m             \u001b[39mbreak\u001b[39;00m\n\u001b[1;32m   <a href='file:///Users/chavisadechathipat/.pyenv/versions/3.10.3/lib/python3.10/site-packages/ipykernel/kernelbase.py?line=1198'>1199</a>\u001b[0m \u001b[39mexcept\u001b[39;00m \u001b[39mKeyboardInterrupt\u001b[39;00m:\n\u001b[1;32m   <a href='file:///Users/chavisadechathipat/.pyenv/versions/3.10.3/lib/python3.10/site-packages/ipykernel/kernelbase.py?line=1199'>1200</a>\u001b[0m     \u001b[39m# re-raise KeyboardInterrupt, to truncate traceback\u001b[39;00m\n\u001b[0;32m-> <a href='file:///Users/chavisadechathipat/.pyenv/versions/3.10.3/lib/python3.10/site-packages/ipykernel/kernelbase.py?line=1200'>1201</a>\u001b[0m     \u001b[39mraise\u001b[39;00m \u001b[39mKeyboardInterrupt\u001b[39;00m(\u001b[39m\"\u001b[39m\u001b[39mInterrupted by user\u001b[39m\u001b[39m\"\u001b[39m) \u001b[39mfrom\u001b[39;00m \u001b[39mNone\u001b[39m\n\u001b[1;32m   <a href='file:///Users/chavisadechathipat/.pyenv/versions/3.10.3/lib/python3.10/site-packages/ipykernel/kernelbase.py?line=1201'>1202</a>\u001b[0m \u001b[39mexcept\u001b[39;00m \u001b[39mException\u001b[39;00m:\n\u001b[1;32m   <a href='file:///Users/chavisadechathipat/.pyenv/versions/3.10.3/lib/python3.10/site-packages/ipykernel/kernelbase.py?line=1202'>1203</a>\u001b[0m     \u001b[39mself\u001b[39m\u001b[39m.\u001b[39mlog\u001b[39m.\u001b[39mwarning(\u001b[39m\"\u001b[39m\u001b[39mInvalid Message:\u001b[39m\u001b[39m\"\u001b[39m, exc_info\u001b[39m=\u001b[39m\u001b[39mTrue\u001b[39;00m)\n",
      "\u001b[0;31mKeyboardInterrupt\u001b[0m: Interrupted by user"
     ]
    }
   ],
   "source": [
    "num = int(input(\"Enter number: \"))\n",
    "\n",
    "is_prime = True\n",
    "\n",
    "for i in range(2, num):\n",
    "    if num % i == 0:\n",
    "        is_prime = False\n",
    "        break\n",
    "\n",
    "if is_prime:\n",
    "    print(\"%d is prime number\" % num)\n",
    "else:\n",
    "    print(\"%d is not a prime number\" % num)\n"
   ]
  },
  {
   "cell_type": "markdown",
   "metadata": {
    "id": "F4buNkpRzej5"
   },
   "source": [
    "## Exercise: `mersenne_numbers`\n",
    "\n",
    "A Mersenne number is any number that can be written as $2^p - 1$ for some $p$. For example, 3 is a Mersenne number ($2^2 - 1$) as is 31 ($2^5 - 1$). We will see later on that it is easy to test if Mersenne numbers are prime.\n",
    "\n",
    "Write a function that accepts an exponent $p$ and returns the corresponding Mersenne number."
   ]
  },
  {
   "cell_type": "code",
   "execution_count": 46,
   "metadata": {
    "id": "tahhegsWzej5"
   },
   "outputs": [],
   "source": [
    "def mersenne_number(p):\n",
    "    return (2**p) -1"
   ]
  },
  {
   "cell_type": "markdown",
   "metadata": {
    "id": "Vv9cD7dIzej5"
   },
   "source": [
    "Mersenne numbers can only be prime if their exponent, $p$, is prime. Make a list of the Mersenne numbers for all primes $p$ between 3 and 65 (there should be 17 of them).\n",
    "\n",
    "Hint: It may be useful to modify the `is_prime` and `get_primes` functions from [the Program Flow notebook](PY_ProgramFlow.ipynb) for use in this problem."
   ]
  },
  {
   "cell_type": "code",
   "execution_count": 47,
   "metadata": {
    "id": "tonNLR-hzej6",
    "outputId": "44e8eb85-d581-4cb2-bcb5-8019912a14d4"
   },
   "outputs": [
    {
     "name": "stdout",
     "output_type": "stream",
     "text": [
      "[0, 1, 2]\n"
     ]
    }
   ],
   "source": [
    "# we can make a list like this\n",
    "my_list = [0, 1, 2]\n",
    "print(my_list)"
   ]
  },
  {
   "cell_type": "code",
   "execution_count": 48,
   "metadata": {
    "id": "Rf_0lmVAzej6",
    "outputId": "e2458cd2-4087-45f1-9369-42b4c366e2bf"
   },
   "outputs": [
    {
     "name": "stdout",
     "output_type": "stream",
     "text": [
      "[]\n",
      "[0, 1, 2]\n"
     ]
    }
   ],
   "source": [
    "# we can also make an empty list and add items to it\n",
    "another_list = []\n",
    "print(another_list)\n",
    "\n",
    "for item in my_list:\n",
    "    another_list.append(item)\n",
    "\n",
    "print(another_list)"
   ]
  },
  {
   "cell_type": "code",
   "execution_count": 49,
   "metadata": {
    "id": "V1g2SLWuzej7"
   },
   "outputs": [],
   "source": [
    "import math\n",
    "def is_prime(number):\n",
    "    if number <= 1 or (number > 2 and number % 2 == 0):\n",
    "        return False\n",
    "    \n",
    "    for factor in range(2, int(math.sqrt(number))+1):\n",
    "        if number%factor == 0:\n",
    "            return False\n",
    "    return True"
   ]
  },
  {
   "cell_type": "code",
   "execution_count": 50,
   "metadata": {
    "id": "A2JvQKHpzej7"
   },
   "outputs": [],
   "source": [
    "\n",
    "def get_primes(n_start, n_end):\n",
    "    primes = []\n",
    "    for i in range(n_start, n_end):\n",
    "        if is_prime(i):\n",
    "            primes.append(i)\n",
    "    return primes"
   ]
  },
  {
   "cell_type": "code",
   "execution_count": 51,
   "metadata": {
    "id": "bQZmVmhczej7"
   },
   "outputs": [],
   "source": [
    "mersennes = []\n",
    "for i in get_primes(3,66):\n",
    "    mersennes.append(mersenne_number(i))"
   ]
  },
  {
   "cell_type": "code",
   "execution_count": 52,
   "metadata": {
    "id": "8d4tN0UHzej8",
    "outputId": "e8a091ed-1234-41c0-ed7b-8844ef3623b8"
   },
   "outputs": [
    {
     "data": {
      "text/plain": [
       "[7,\n",
       " 31,\n",
       " 127,\n",
       " 2047,\n",
       " 8191,\n",
       " 131071,\n",
       " 524287,\n",
       " 8388607,\n",
       " 536870911,\n",
       " 2147483647,\n",
       " 137438953471,\n",
       " 2199023255551,\n",
       " 8796093022207,\n",
       " 140737488355327,\n",
       " 9007199254740991,\n",
       " 576460752303423487,\n",
       " 2305843009213693951]"
      ]
     },
     "execution_count": 52,
     "metadata": {},
     "output_type": "execute_result"
    }
   ],
   "source": [
    "mersennes"
   ]
  },
  {
   "cell_type": "code",
   "execution_count": 53,
   "metadata": {},
   "outputs": [
    {
     "ename": "KeyboardInterrupt",
     "evalue": "Interrupted by user",
     "output_type": "error",
     "traceback": [
      "\u001b[0;31m---------------------------------------------------------------------------\u001b[0m",
      "\u001b[0;31mKeyboardInterrupt\u001b[0m                         Traceback (most recent call last)",
      "\u001b[1;32m/Users/chavisadechathipat/Desktop/python project/Learning/Python_Playgrounds/problems.ipynb Cell 31'\u001b[0m in \u001b[0;36m<cell line: 8>\u001b[0;34m()\u001b[0m\n\u001b[1;32m      <a href='vscode-notebook-cell:/Users/chavisadechathipat/Desktop/python%20project/Learning/Python_Playgrounds/problems.ipynb#ch0000030?line=5'>6</a>\u001b[0m \t\tsomeList \u001b[39m=\u001b[39m \u001b[39mlist\u001b[39m(pi)\n\u001b[1;32m      <a href='vscode-notebook-cell:/Users/chavisadechathipat/Desktop/python%20project/Learning/Python_Playgrounds/problems.ipynb#ch0000030?line=6'>7</a>\u001b[0m \t\t\u001b[39mreturn\u001b[39;00m somepi;\n\u001b[0;32m----> <a href='vscode-notebook-cell:/Users/chavisadechathipat/Desktop/python%20project/Learning/Python_Playgrounds/problems.ipynb#ch0000030?line=7'>8</a>\u001b[0m roundTo \u001b[39m=\u001b[39m \u001b[39minput\u001b[39;49m(\u001b[39m'\u001b[39;49m\u001b[39mEnter the number of digits you want after the decimal for Pi: \u001b[39;49m\u001b[39m'\u001b[39;49m)\n\u001b[1;32m      <a href='vscode-notebook-cell:/Users/chavisadechathipat/Desktop/python%20project/Learning/Python_Playgrounds/problems.ipynb#ch0000030?line=8'>9</a>\u001b[0m \u001b[39mtry\u001b[39;00m:\n\u001b[1;32m     <a href='vscode-notebook-cell:/Users/chavisadechathipat/Desktop/python%20project/Learning/Python_Playgrounds/problems.ipynb#ch0000030?line=9'>10</a>\u001b[0m \troundint \u001b[39m=\u001b[39m \u001b[39mint\u001b[39m(roundTo);\n",
      "File \u001b[0;32m~/.pyenv/versions/3.10.3/lib/python3.10/site-packages/ipykernel/kernelbase.py:1159\u001b[0m, in \u001b[0;36mKernel.raw_input\u001b[0;34m(self, prompt)\u001b[0m\n\u001b[1;32m   <a href='file:///Users/chavisadechathipat/.pyenv/versions/3.10.3/lib/python3.10/site-packages/ipykernel/kernelbase.py?line=1154'>1155</a>\u001b[0m \u001b[39mif\u001b[39;00m \u001b[39mnot\u001b[39;00m \u001b[39mself\u001b[39m\u001b[39m.\u001b[39m_allow_stdin:\n\u001b[1;32m   <a href='file:///Users/chavisadechathipat/.pyenv/versions/3.10.3/lib/python3.10/site-packages/ipykernel/kernelbase.py?line=1155'>1156</a>\u001b[0m     \u001b[39mraise\u001b[39;00m StdinNotImplementedError(\n\u001b[1;32m   <a href='file:///Users/chavisadechathipat/.pyenv/versions/3.10.3/lib/python3.10/site-packages/ipykernel/kernelbase.py?line=1156'>1157</a>\u001b[0m         \u001b[39m\"\u001b[39m\u001b[39mraw_input was called, but this frontend does not support input requests.\u001b[39m\u001b[39m\"\u001b[39m\n\u001b[1;32m   <a href='file:///Users/chavisadechathipat/.pyenv/versions/3.10.3/lib/python3.10/site-packages/ipykernel/kernelbase.py?line=1157'>1158</a>\u001b[0m     )\n\u001b[0;32m-> <a href='file:///Users/chavisadechathipat/.pyenv/versions/3.10.3/lib/python3.10/site-packages/ipykernel/kernelbase.py?line=1158'>1159</a>\u001b[0m \u001b[39mreturn\u001b[39;00m \u001b[39mself\u001b[39;49m\u001b[39m.\u001b[39;49m_input_request(\n\u001b[1;32m   <a href='file:///Users/chavisadechathipat/.pyenv/versions/3.10.3/lib/python3.10/site-packages/ipykernel/kernelbase.py?line=1159'>1160</a>\u001b[0m     \u001b[39mstr\u001b[39;49m(prompt),\n\u001b[1;32m   <a href='file:///Users/chavisadechathipat/.pyenv/versions/3.10.3/lib/python3.10/site-packages/ipykernel/kernelbase.py?line=1160'>1161</a>\u001b[0m     \u001b[39mself\u001b[39;49m\u001b[39m.\u001b[39;49m_parent_ident[\u001b[39m\"\u001b[39;49m\u001b[39mshell\u001b[39;49m\u001b[39m\"\u001b[39;49m],\n\u001b[1;32m   <a href='file:///Users/chavisadechathipat/.pyenv/versions/3.10.3/lib/python3.10/site-packages/ipykernel/kernelbase.py?line=1161'>1162</a>\u001b[0m     \u001b[39mself\u001b[39;49m\u001b[39m.\u001b[39;49mget_parent(\u001b[39m\"\u001b[39;49m\u001b[39mshell\u001b[39;49m\u001b[39m\"\u001b[39;49m),\n\u001b[1;32m   <a href='file:///Users/chavisadechathipat/.pyenv/versions/3.10.3/lib/python3.10/site-packages/ipykernel/kernelbase.py?line=1162'>1163</a>\u001b[0m     password\u001b[39m=\u001b[39;49m\u001b[39mFalse\u001b[39;49;00m,\n\u001b[1;32m   <a href='file:///Users/chavisadechathipat/.pyenv/versions/3.10.3/lib/python3.10/site-packages/ipykernel/kernelbase.py?line=1163'>1164</a>\u001b[0m )\n",
      "File \u001b[0;32m~/.pyenv/versions/3.10.3/lib/python3.10/site-packages/ipykernel/kernelbase.py:1201\u001b[0m, in \u001b[0;36mKernel._input_request\u001b[0;34m(self, prompt, ident, parent, password)\u001b[0m\n\u001b[1;32m   <a href='file:///Users/chavisadechathipat/.pyenv/versions/3.10.3/lib/python3.10/site-packages/ipykernel/kernelbase.py?line=1197'>1198</a>\u001b[0m             \u001b[39mbreak\u001b[39;00m\n\u001b[1;32m   <a href='file:///Users/chavisadechathipat/.pyenv/versions/3.10.3/lib/python3.10/site-packages/ipykernel/kernelbase.py?line=1198'>1199</a>\u001b[0m \u001b[39mexcept\u001b[39;00m \u001b[39mKeyboardInterrupt\u001b[39;00m:\n\u001b[1;32m   <a href='file:///Users/chavisadechathipat/.pyenv/versions/3.10.3/lib/python3.10/site-packages/ipykernel/kernelbase.py?line=1199'>1200</a>\u001b[0m     \u001b[39m# re-raise KeyboardInterrupt, to truncate traceback\u001b[39;00m\n\u001b[0;32m-> <a href='file:///Users/chavisadechathipat/.pyenv/versions/3.10.3/lib/python3.10/site-packages/ipykernel/kernelbase.py?line=1200'>1201</a>\u001b[0m     \u001b[39mraise\u001b[39;00m \u001b[39mKeyboardInterrupt\u001b[39;00m(\u001b[39m\"\u001b[39m\u001b[39mInterrupted by user\u001b[39m\u001b[39m\"\u001b[39m) \u001b[39mfrom\u001b[39;00m \u001b[39mNone\u001b[39m\n\u001b[1;32m   <a href='file:///Users/chavisadechathipat/.pyenv/versions/3.10.3/lib/python3.10/site-packages/ipykernel/kernelbase.py?line=1201'>1202</a>\u001b[0m \u001b[39mexcept\u001b[39;00m \u001b[39mException\u001b[39;00m:\n\u001b[1;32m   <a href='file:///Users/chavisadechathipat/.pyenv/versions/3.10.3/lib/python3.10/site-packages/ipykernel/kernelbase.py?line=1202'>1203</a>\u001b[0m     \u001b[39mself\u001b[39m\u001b[39m.\u001b[39mlog\u001b[39m.\u001b[39mwarning(\u001b[39m\"\u001b[39m\u001b[39mInvalid Message:\u001b[39m\u001b[39m\"\u001b[39m, exc_info\u001b[39m=\u001b[39m\u001b[39mTrue\u001b[39;00m)\n",
      "\u001b[0;31mKeyboardInterrupt\u001b[0m: Interrupted by user"
     ]
    }
   ],
   "source": [
    "\n",
    "\n",
    "math.pi\n",
    "def CalculatePi(roundVal):\n",
    "\n",
    "\t\tsomepi = round(math.pi,roundVal);\n",
    "\t\tpi = str(somepi)\n",
    "\t\tsomeList = list(pi)\n",
    "\t\treturn somepi;\n",
    "roundTo = input('Enter the number of digits you want after the decimal for Pi: ')\n",
    "try:\n",
    "\troundint = int(roundTo);\n",
    "\tprint(CalculatePi(roundint));\n",
    "except:\n",
    "\tprint(\"You did not enter an integer\");\n"
   ]
  }
 ],
 "metadata": {
  "kernelspec": {
   "display_name": "Python 3",
   "language": "python",
   "name": "python3"
  },
  "language_info": {
   "codemirror_mode": {
    "name": "ipython",
    "version": 3
   },
   "file_extension": ".py",
   "mimetype": "text/x-python",
   "name": "python",
   "nbconvert_exporter": "python",
   "pygments_lexer": "ipython3",
   "version": "3.10.3"
  },
  "nbclean": true
 },
 "nbformat": 4,
 "nbformat_minor": 1
}
